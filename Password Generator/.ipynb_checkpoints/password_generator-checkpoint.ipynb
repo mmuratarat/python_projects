{
 "cells": [
  {
   "cell_type": "code",
   "execution_count": 1,
   "id": "bcb348d2-6d15-49ee-9d64-1ce92158de5f",
   "metadata": {},
   "outputs": [
    {
     "name": "stdin",
     "output_type": "stream",
     "text": [
      "Enter the length of password (please enter a number): 6\n"
     ]
    },
    {
     "name": "stdout",
     "output_type": "stream",
     "text": [
      "Your password is ^|7l?d\n"
     ]
    }
   ],
   "source": [
    "import random\n",
    "import string\n",
    "\n",
    "length_ = int(input(\"Enter the length of password (please enter a number):\"))\n",
    "\n",
    "lower = string.ascii_lowercase\n",
    "# 'abcdefghijklmnopqrstuvwxyz'\n",
    "\n",
    "upper = string.ascii_uppercase\n",
    "# 'ABCDEFGHIJKLMNOPQRSTUVWXYZ'\n",
    "\n",
    "num = string.digits\n",
    "# '0123456789'\n",
    "\n",
    "symbols = string.punctuation\n",
    "# '!\"#$%&\\'()*+,-./:;<=>?@[\\\\]^_`{|}~'\n",
    "\n",
    "# Combine the characters\n",
    "characters_ = lower + upper + num + symbols\n",
    "\n",
    "#Generate password\n",
    "password =  \"\".join(random.sample(characters_, length_))\n",
    "\n",
    "#Print password\n",
    "print(f\"Your password is {password}\")\n",
    "# Your password is D%t8K5"
   ]
  },
  {
   "cell_type": "code",
   "execution_count": null,
   "id": "d7c95efb-3d23-454f-a23f-23ca4a29ba4d",
   "metadata": {},
   "outputs": [],
   "source": []
  }
 ],
 "metadata": {
  "kernelspec": {
   "display_name": "Python 3 (ipykernel)",
   "language": "python",
   "name": "python3"
  },
  "language_info": {
   "codemirror_mode": {
    "name": "ipython",
    "version": 3
   },
   "file_extension": ".py",
   "mimetype": "text/x-python",
   "name": "python",
   "nbconvert_exporter": "python",
   "pygments_lexer": "ipython3",
   "version": "3.10.8"
  }
 },
 "nbformat": 4,
 "nbformat_minor": 5
}
