{
 "cells": [
  {
   "cell_type": "code",
   "execution_count": 7,
   "id": "bcb348d2-6d15-49ee-9d64-1ce92158de5f",
   "metadata": {},
   "outputs": [
    {
     "name": "stdin",
     "output_type": "stream",
     "text": [
      "Enter the length of password (please enter a number): 6\n"
     ]
    },
    {
     "name": "stdout",
     "output_type": "stream",
     "text": [
      "Your password is Mn?fgq\n"
     ]
    }
   ],
   "source": [
    "import random\n",
    "\n",
    "length_ = int(input(\"Enter the length of password (please enter a number):\"))\n",
    "\n",
    "characters_ = \"abcdefghijklmnopqrstuvwxyz01234567890ABCDEFGHIJKLMNOPQRSTUVWXYZ!@#$%^&*()?_-\"\n",
    "\n",
    "password =  \"\".join(random.sample(characters_, length_))\n",
    "print(f\"Your password is {password}\")"
   ]
  },
  {
   "cell_type": "code",
   "execution_count": null,
   "id": "ffd68089-b50a-4bd5-a0b2-cf8e04e71f27",
   "metadata": {},
   "outputs": [],
   "source": []
  }
 ],
 "metadata": {
  "kernelspec": {
   "display_name": "Python 3 (ipykernel)",
   "language": "python",
   "name": "python3"
  },
  "language_info": {
   "codemirror_mode": {
    "name": "ipython",
    "version": 3
   },
   "file_extension": ".py",
   "mimetype": "text/x-python",
   "name": "python",
   "nbconvert_exporter": "python",
   "pygments_lexer": "ipython3",
   "version": "3.10.8"
  }
 },
 "nbformat": 4,
 "nbformat_minor": 5
}
