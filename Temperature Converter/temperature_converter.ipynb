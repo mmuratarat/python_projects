{
 "cells": [
  {
   "cell_type": "code",
   "execution_count": 11,
   "id": "5ab4282d-6644-428b-b6ac-2380badf011b",
   "metadata": {},
   "outputs": [
    {
     "name": "stdin",
     "output_type": "stream",
     "text": [
      "Which temperature measure you want to convert your temperature to? Write 'C' for if you want to convert to Celsius or 'F' if you want to convert to Fahrenheit. F\n",
      "Enter the temperature value: 32\n"
     ]
    },
    {
     "name": "stdout",
     "output_type": "stream",
     "text": [
      "The temperature in Fahrenheit is 89.60 degrees\n"
     ]
    }
   ],
   "source": [
    "FOrC = str(input(\"Which temperature measure you want to convert your temperature to? Write 'C' for if you want to convert to Celsius or 'F' if you want to convert to Fahrenheit.\"))\n",
    "temperature_ = float(input(\"Enter the temperature value:\"))\n",
    "\n",
    "def convertToFahrenheit(temp):\n",
    "    return (temp * 9/5) + 32.0\n",
    "    \n",
    "def convertToCelcius(temp):\n",
    "    return (temp - 32.0)*5/9\n",
    "             \n",
    "if FOrC == 'C':\n",
    "    print(f\"The temperature in Celsius is {convertToCelcius(temperature_):.2f} degrees\")\n",
    "else: \n",
    "    print(f\"The temperature in Fahrenheit is {convertToFahrenheit(temperature_):.2f} degrees\")"
   ]
  }
 ],
 "metadata": {
  "kernelspec": {
   "display_name": "Python 3 (ipykernel)",
   "language": "python",
   "name": "python3"
  },
  "language_info": {
   "codemirror_mode": {
    "name": "ipython",
    "version": 3
   },
   "file_extension": ".py",
   "mimetype": "text/x-python",
   "name": "python",
   "nbconvert_exporter": "python",
   "pygments_lexer": "ipython3",
   "version": "3.10.8"
  }
 },
 "nbformat": 4,
 "nbformat_minor": 5
}
