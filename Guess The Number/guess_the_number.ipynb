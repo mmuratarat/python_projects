{
 "cells": [
  {
   "cell_type": "code",
   "execution_count": 11,
   "id": "f7cd9ad7-2953-4ca7-93e4-d7a22da91301",
   "metadata": {},
   "outputs": [
    {
     "name": "stdin",
     "output_type": "stream",
     "text": [
      "Hello! What is your name? Murat\n"
     ]
    },
    {
     "name": "stdout",
     "output_type": "stream",
     "text": [
      "\n",
      "Nice to meet you, Murat! \n",
      "Let's play a game with you! I will think a number between 1 and 10 then you will guess! \n",
      "Remember, you have only 3 guesses!\n",
      "\n",
      "Shall we start? Let's go!\n"
     ]
    },
    {
     "name": "stdin",
     "output_type": "stream",
     "text": [
      " 2\n"
     ]
    },
    {
     "name": "stdout",
     "output_type": "stream",
     "text": [
      "Your estimate is too low, go up a little!\n"
     ]
    },
    {
     "name": "stdin",
     "output_type": "stream",
     "text": [
      " 6\n"
     ]
    },
    {
     "name": "stdout",
     "output_type": "stream",
     "text": [
      "\n",
      "Congratulations Murat, you guessed the number in 2 tries!\n"
     ]
    }
   ],
   "source": [
    "import random\n",
    "number = random.randint(1, 10)\n",
    "\n",
    "player_name = input(\"Hello! What is your name?\")\n",
    "number_of_guesses = 0\n",
    "\n",
    "print()\n",
    "print(f\"Nice to meet you, {player_name}! \\nLet's play a game with you! I will think a number between 1 and 10 then you will guess! \\nRemember, you have only 3 guesses!\")\n",
    "\n",
    "print()\n",
    "print(\"Shall we start? Let's go!\")\n",
    "\n",
    "while number_of_guesses < 3:\n",
    "    guess = int(input())\n",
    "    number_of_guesses += 1\n",
    "    if guess < number:\n",
    "        print('Your estimate is too low, go up a little!')\n",
    "    if guess > number:\n",
    "        print('Your estimate is too high, go down a bit!')\n",
    "    if guess == number:\n",
    "        break\n",
    "print()\n",
    "if guess == number:\n",
    "    print( 'Congratulations {}, you guessed the number in {} tries!'.format(player_name, number_of_guesses))\n",
    "else:\n",
    "    print('Close! But too bad! :( you couldn\\'t guess the number. \\nWell, the number was {}.'.format(number))"
   ]
  }
 ],
 "metadata": {
  "kernelspec": {
   "display_name": "Python 3 (ipykernel)",
   "language": "python",
   "name": "python3"
  },
  "language_info": {
   "codemirror_mode": {
    "name": "ipython",
    "version": 3
   },
   "file_extension": ".py",
   "mimetype": "text/x-python",
   "name": "python",
   "nbconvert_exporter": "python",
   "pygments_lexer": "ipython3",
   "version": "3.10.8"
  }
 },
 "nbformat": 4,
 "nbformat_minor": 5
}
