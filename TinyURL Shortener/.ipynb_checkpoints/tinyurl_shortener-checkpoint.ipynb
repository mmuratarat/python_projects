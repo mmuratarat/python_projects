{
 "cells": [
  {
   "cell_type": "code",
   "execution_count": 19,
   "id": "788f380a-d799-4485-a5cb-265b7e425cff",
   "metadata": {},
   "outputs": [
    {
     "name": "stdout",
     "output_type": "stream",
     "text": [
      "Shortened URL: https://tinyurl.com/mptt352c\n"
     ]
    }
   ],
   "source": [
    "import requests\n",
    "\n",
    "input_url = \"YOUR_URL\"\n",
    "\n",
    "headers = {\n",
    "    'accept': 'application/json',\n",
    "    # Already added when you pass json= but not when you pass data=\n",
    "    # 'Content-Type': 'application/json',\n",
    "}\n",
    "\n",
    "params = {\n",
    "    'api_token': 'YOUR_API_KEY',\n",
    "}\n",
    "\n",
    "json_data = {\n",
    "  \"url\": input_url,\n",
    "}\n",
    "\n",
    "response = requests.post('https://api.tinyurl.com/create', params=params, headers=headers, json=json_data)\n",
    "\n",
    "\n",
    "# Check if the request was successful (HTTP status code 200)\n",
    "if response.status_code == 200:\n",
    "    # Parse the JSON response to get the shortened URL\n",
    "    response_data = response.json()\n",
    "    shortened_url = response_data.get('data', {}).get('tiny_url', 'Shortened URL not found')\n",
    "    print(\"Shortened URL:\", shortened_url)\n",
    "else:\n",
    "    print(\"Failed to create a TinyURL. Status code:\", response.status_code)\n",
    "    print(\"Response content:\", response.text)"
   ]
  }
 ],
 "metadata": {
  "kernelspec": {
   "display_name": "Python 3 (ipykernel)",
   "language": "python",
   "name": "python3"
  },
  "language_info": {
   "codemirror_mode": {
    "name": "ipython",
    "version": 3
   },
   "file_extension": ".py",
   "mimetype": "text/x-python",
   "name": "python",
   "nbconvert_exporter": "python",
   "pygments_lexer": "ipython3",
   "version": "3.10.8"
  }
 },
 "nbformat": 4,
 "nbformat_minor": 5
}
